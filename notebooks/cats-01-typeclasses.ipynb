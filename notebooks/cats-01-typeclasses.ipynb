{
 "cells": [
  {
   "cell_type": "markdown",
   "metadata": {},
   "source": [
    "# Cats 01 - Typeclasses\n",
    "\n",
    "A typeclass is actually a common construct in functional programming, specifically used by Haskell.  \n",
    "\n",
    "From my understanding I would say that a typeclass is the following:  \n",
    "> an interface of an API that represents some functionality we want to implement\n",
    "\n",
    "Most of the code that we are going to use in this and other notebooks is the cats library, so this will be the first\n",
    "thing that we import in each notebook.  As of this point in time, the version that we are using is `2.0.0`.  "
   ]
  },
  {
   "cell_type": "code",
   "execution_count": null,
   "metadata": {},
   "outputs": [],
   "source": [
    "import $ivy.`org.typelevel::cats-core:2.0.0`\n",
    "import cats._"
   ]
  },
  {
   "cell_type": "markdown",
   "metadata": {},
   "source": [
    "## How do we create a Typeclass?\n",
    "\n"
   ]
  },
  {
   "cell_type": "code",
   "execution_count": null,
   "metadata": {},
   "outputs": [],
   "source": [
    "trait ConsoleTrait[A] {\n",
    "  def write(value: A)\n",
    "}\n",
    "object ConsoleTrait {\n",
    "  def toConsoleTrait[A](value: A)(implicit writer: ConsoleTrait[A]) =\n",
    "    writer.write(value)\n",
    "}\n",
    "\n",
    "object ConsoleTraitInstances {\n",
    "  implicit val StringTrait: ConsoleTrait[String] =\n",
    "    (value: String) => println(s\"StringTrait $value\")\n",
    "\n",
    "  implicit val IntTrait: ConsoleTrait[Int] =\n",
    "    new ConsoleTrait[Int] {\n",
    "      override def write(value: Int): Unit =\n",
    "        println(s\"IntTrait $value\")\n",
    "    }\n",
    "}\n",
    "\n",
    "import ConsoleTraitInstances._\n",
    "ConsoleTrait.toConsoleTrait(\"test\")"
   ]
  },
  {
   "cell_type": "code",
   "execution_count": null,
   "metadata": {},
   "outputs": [],
   "source": [
    "trait Printable[A] {\n",
    "  def format(value: A): String\n",
    "}\n",
    "object Printable {\n",
    "  def format[A](value: A)(implicit printer: Printable[A]): String =\n",
    "    printer.format(value)\n",
    "  def print[A](value: A)(implicit printer: Printable[A]): Unit =\n",
    "    println(printer.format(value))\n",
    "}\n",
    "\n",
    "object PrintableInstances {\n",
    "  implicit val stringPrintable = new Printable[String] {\n",
    "    override def format(value: String) = value\n",
    "  }\n",
    "  implicit val intPrintable = new Printable[Int] {\n",
    "    override def format(value: Int) = value.toString\n",
    "  }\n",
    "}\n",
    "\n",
    "import PrintableInstances._\n",
    "Printable.print(\"10\")\n",
    "Printable.print(10)"
   ]
  },
  {
   "cell_type": "code",
   "execution_count": null,
   "metadata": {},
   "outputs": [],
   "source": [
    "import cats.Show\n",
    "\n",
    "// This should fail (need to import the implicit instances)\n",
    "//val intShowBad = Show.apply[Int]\n",
    "\n",
    "import cats.instances.int._\n",
    "import cats.instances.string._\n",
    "val showInt = Show.apply[Int]\n",
    "val showStr = Show.apply[String]\n",
    "println(showInt.show(123))\n",
    "println(showStr.show(\"test\"))\n",
    "\n",
    "import cats.syntax.show._\n",
    "println(123.show)\n",
    "println(\"what\".show)"
   ]
  },
  {
   "cell_type": "code",
   "execution_count": null,
   "metadata": {},
   "outputs": [],
   "source": [
    "object PrintableShows {\n",
    "  def format[A](value: A)(implicit printer: Printable[A]): String =\n",
    "    printer.format(value)\n",
    "  def print[A](value: A)(implicit printer: Printable[A]): Unit =\n",
    "    println(printer.format(value))\n",
    "}\n",
    "\n",
    "implicit val stringPrintable = new Printable[String] {\n",
    "  override def format(value: String) = value\n",
    "}\n",
    "implicit val intPrintable = new Printable[Int] {\n",
    "  override def format(value: Int) = value.toString\n",
    "}\n",
    "\n",
    "PrintableShows.print(\"10\")\n",
    "PrintableShows.print(10)\n",
    "\n",
    "import scala.util.chaining._\n",
    "List(1, 2, 3).tap(v => println(s\"debug $v\"))\n",
    "\n"
   ]
  },
  {
   "cell_type": "code",
   "execution_count": null,
   "metadata": {},
   "outputs": [],
   "source": [
    "final case class Cat(name: String, age: Int, color: String)\n",
    "\n",
    "implicit val _catPrintable = new Printable[Cat] {\n",
    "  override def format(value: Cat) = s\"${{value.name}} is a ${{value.age}} year-old ${{value.color}} cat.\"\n",
    "}\n",
    "\n",
    "Printable.print(Cat(\"spot\", 3, \"spotted\"))"
   ]
  },
  {
   "cell_type": "markdown",
   "metadata": {},
   "source": [
    "## Cats other import styles\n",
    "\n",
    "    import cats._\n",
    "    import cats.instances.all._\n",
    "    import cats.syntax.all._\n",
    "    import cats.implicits._"
   ]
  },
  {
   "cell_type": "code",
   "execution_count": null,
   "metadata": {},
   "outputs": [],
   "source": []
  }
 ],
 "metadata": {
  "kernelspec": {
   "display_name": "Scala 2.13",
   "language": "scala",
   "name": "scala213"
  },
  "language_info": {
   "codemirror_mode": "text/x-scala",
   "file_extension": ".scala",
   "mimetype": "text/x-scala",
   "name": "scala",
   "nbconvert_exporter": "script",
   "version": "2.13.1"
  }
 },
 "nbformat": 4,
 "nbformat_minor": 4
}
