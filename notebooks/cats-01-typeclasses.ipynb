{
 "cells": [
  {
   "cell_type": "markdown",
   "metadata": {},
   "source": [
    "# Cats 01 - Typeclasses\n",
    "\n",
    "A typeclass is actually a common construct in functional programming, specifically used by Haskell.  \n",
    "\n",
    "From my understanding I would say that a typeclass is the following:  \n",
    "> an interface of an API that represents some functionality we want to implement\n",
    "\n",
    "Most of the code that we are going to use in this and other notebooks is the cats library, so this will be the first\n",
    "thing that we import in each notebook.  As of this point in time, the version that we are using is `2.0.0`.  "
   ]
  },
  {
   "cell_type": "code",
   "execution_count": 1,
   "metadata": {},
   "outputs": [
    {
     "data": {
      "text/plain": [
       "\u001b[32mimport \u001b[39m\u001b[36m$ivy.$                               \n",
       "\u001b[39m\n",
       "\u001b[32mimport \u001b[39m\u001b[36mcats._\u001b[39m"
      ]
     },
     "execution_count": 1,
     "metadata": {},
     "output_type": "execute_result"
    }
   ],
   "source": [
    "import $ivy.`org.typelevel::cats-core:2.0.0`\n",
    "import cats._"
   ]
  },
  {
   "cell_type": "markdown",
   "metadata": {},
   "source": [
    "## How do we create a Typeclass?\n",
    "\n"
   ]
  },
  {
   "cell_type": "code",
   "execution_count": 2,
   "metadata": {},
   "outputs": [
    {
     "name": "stdout",
     "output_type": "stream",
     "text": [
      "StringTrait test\n"
     ]
    },
    {
     "data": {
      "text/plain": [
       "defined \u001b[32mtrait\u001b[39m \u001b[36mConsoleTrait\u001b[39m\n",
       "defined \u001b[32mobject\u001b[39m \u001b[36mConsoleTrait\u001b[39m\n",
       "defined \u001b[32mobject\u001b[39m \u001b[36mConsoleTraitInstances\u001b[39m\n",
       "\u001b[32mimport \u001b[39m\u001b[36mConsoleTraitInstances._\n",
       "\u001b[39m"
      ]
     },
     "execution_count": 2,
     "metadata": {},
     "output_type": "execute_result"
    }
   ],
   "source": [
    "trait ConsoleTrait[A] {\n",
    "  def write(value: A)\n",
    "}\n",
    "object ConsoleTrait {\n",
    "  def toConsoleTrait[A](value: A)(implicit writer: ConsoleTrait[A]) =\n",
    "    writer.write(value)\n",
    "}\n",
    "\n",
    "object ConsoleTraitInstances {\n",
    "  implicit val StringTrait: ConsoleTrait[String] =\n",
    "    (value: String) => println(s\"StringTrait $value\")\n",
    "\n",
    "  implicit val IntTrait: ConsoleTrait[Int] =\n",
    "    new ConsoleTrait[Int] {\n",
    "      override def write(value: Int): Unit =\n",
    "        println(s\"IntTrait $value\")\n",
    "    }\n",
    "}\n",
    "\n",
    "import ConsoleTraitInstances._\n",
    "ConsoleTrait.toConsoleTrait(\"test\")"
   ]
  },
  {
   "cell_type": "code",
   "execution_count": 3,
   "metadata": {},
   "outputs": [
    {
     "name": "stdout",
     "output_type": "stream",
     "text": [
      "10\n",
      "10\n"
     ]
    },
    {
     "data": {
      "text/plain": [
       "defined \u001b[32mtrait\u001b[39m \u001b[36mPrintable\u001b[39m\n",
       "defined \u001b[32mobject\u001b[39m \u001b[36mPrintable\u001b[39m\n",
       "defined \u001b[32mobject\u001b[39m \u001b[36mPrintableInstances\u001b[39m\n",
       "\u001b[32mimport \u001b[39m\u001b[36mPrintableInstances._\n",
       "\u001b[39m"
      ]
     },
     "execution_count": 3,
     "metadata": {},
     "output_type": "execute_result"
    }
   ],
   "source": [
    "trait Printable[A] {\n",
    "  def format(value: A): String\n",
    "}\n",
    "object Printable {\n",
    "  def format[A](value: A)(implicit printer: Printable[A]): String =\n",
    "    printer.format(value)\n",
    "  def print[A](value: A)(implicit printer: Printable[A]): Unit =\n",
    "    println(printer.format(value))\n",
    "}\n",
    "\n",
    "object PrintableInstances {\n",
    "  implicit val stringPrintable = new Printable[String] {\n",
    "    override def format(value: String) = value\n",
    "  }\n",
    "  implicit val intPrintable = new Printable[Int] {\n",
    "    override def format(value: Int) = value.toString\n",
    "  }\n",
    "}\n",
    "\n",
    "import PrintableInstances._\n",
    "Printable.print(\"10\")\n",
    "Printable.print(10)"
   ]
  },
  {
   "cell_type": "code",
   "execution_count": 4,
   "metadata": {},
   "outputs": [
    {
     "name": "stdout",
     "output_type": "stream",
     "text": [
      "123\n",
      "test\n",
      "123\n",
      "what\n"
     ]
    },
    {
     "data": {
      "text/plain": [
       "\u001b[32mimport \u001b[39m\u001b[36mcats.Show\n",
       "\n",
       "// This should fail (need to import the implicit instances)\n",
       "//val intShowBad = Show.apply[Int]\n",
       "\n",
       "\u001b[39m\n",
       "\u001b[32mimport \u001b[39m\u001b[36mcats.instances.int._\n",
       "\u001b[39m\n",
       "\u001b[32mimport \u001b[39m\u001b[36mcats.instances.string._\n",
       "\u001b[39m\n",
       "\u001b[36mshowInt\u001b[39m: \u001b[32mShow\u001b[39m[\u001b[32mInt\u001b[39m] = cats.Show$$anon$3@361961e\n",
       "\u001b[36mshowStr\u001b[39m: \u001b[32mShow\u001b[39m[\u001b[32mString\u001b[39m] = cats.Show$$anon$3@4e149dc6\n",
       "\u001b[32mimport \u001b[39m\u001b[36mcats.syntax.show._\n",
       "\u001b[39m"
      ]
     },
     "execution_count": 4,
     "metadata": {},
     "output_type": "execute_result"
    }
   ],
   "source": [
    "import cats.Show\n",
    "\n",
    "// This should fail (need to import the implicit instances)\n",
    "//val intShowBad = Show.apply[Int]\n",
    "\n",
    "import cats.instances.int._\n",
    "import cats.instances.string._\n",
    "val showInt = Show.apply[Int]\n",
    "val showStr = Show.apply[String]\n",
    "println(showInt.show(123))\n",
    "println(showStr.show(\"test\"))\n",
    "\n",
    "import cats.syntax.show._\n",
    "println(123.show)\n",
    "println(\"what\".show)"
   ]
  },
  {
   "cell_type": "code",
   "execution_count": 4,
   "metadata": {},
   "outputs": [
    {
     "name": "stderr",
     "output_type": "stream",
     "text": [
      "cmd4.sc:21: object chaining is not a member of package util\n",
      "import scala.util.chaining._\n",
      "                  ^cmd4.sc:18: could not find implicit value for parameter printer: ammonite.$sess.cmd2.instance.Printable[String]\n",
      "val res4_3 = Printable.print(\"10\")\n",
      "                            ^cmd4.sc:19: could not find implicit value for parameter printer: ammonite.$sess.cmd2.instance.Printable[Int]\n",
      "val res4_4 = Printable.print(10)\n",
      "                            ^cmd4.sc:22: value tap is not a member of List[Int]\n",
      "val res4_6 = List(1, 2, 3).tap(v => println(s\"debug $v\"))\n",
      "                           ^Compilation Failed"
     ]
    },
    {
     "ename": "",
     "evalue": "",
     "output_type": "error",
     "traceback": [
      "Compilation Failed"
     ]
    }
   ],
   "source": [
    "object PrintableShows {\n",
    "  def format[A](value: A)(implicit printer: Printable[A]): String =\n",
    "    printer.format(value)\n",
    "  def print[A](value: A)(implicit printer: Printable[A]): Unit =\n",
    "    println(printer.format(value))\n",
    "}\n",
    "\n",
    "object PrintableInstances {\n",
    "  implicit val stringPrintable = new Printable[String] {\n",
    "    override def format(value: String) = value\n",
    "  }\n",
    "  implicit val intPrintable = new Printable[Int] {\n",
    "    override def format(value: Int) = value.toString\n",
    "  }\n",
    "}\n",
    "\n",
    "import PrintableInstances._\n",
    "Printable.print(\"10\")\n",
    "Printable.print(10)\n",
    "\n",
    "import scala.util.chaining._\n",
    "List(1, 2, 3).tap(v => println(s\"debug $v\"))\n",
    "\n"
   ]
  },
  {
   "cell_type": "code",
   "execution_count": null,
   "metadata": {},
   "outputs": [],
   "source": [
    "final case class Cat(name: String, age: Int, color: String)\n",
    "\n",
    "implicit val _catPrintable = new Printable[Cat] {\n",
    "  override def format(value: Cat) = s\"${{value.name}} is a ${{value.age}} year-old ${{value.color}} cat.\"\n",
    "}\n",
    "\n",
    "Printable.print(Cat(\"spot\", 3, \"spotted\"))"
   ]
  },
  {
   "cell_type": "markdown",
   "metadata": {},
   "source": [
    "## Cats other import styles\n",
    "\n",
    "    import cats._\n",
    "    import cats.instances.all._\n",
    "    import cats.syntax.all._\n",
    "    import cats.implicits._"
   ]
  },
  {
   "cell_type": "code",
   "execution_count": null,
   "metadata": {},
   "outputs": [],
   "source": []
  }
 ],
 "metadata": {
  "kernelspec": {
   "display_name": "Scala 2.12",
   "language": "scala",
   "name": "scala212"
  },
  "language_info": {
   "codemirror_mode": "text/x-scala",
   "file_extension": ".scala",
   "mimetype": "text/x-scala",
   "name": "scala",
   "nbconvert_exporter": "script",
   "version": "2.12.10"
  }
 },
 "nbformat": 4,
 "nbformat_minor": 4
}
