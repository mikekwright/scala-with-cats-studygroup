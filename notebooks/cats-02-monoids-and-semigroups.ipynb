{
 "cells": [
  {
   "cell_type": "markdown",
   "metadata": {},
   "source": [
    "# Cats 02 - Monoids and Semigroups\n",
    "\n",
    "Today we are going to talk about _monoids_ and _semigroups_.  It is important to know that these terms are actually mathematical terms as this can help us to better understand their definition, and help us to correctly create our own.  \n",
    "\n",
    "The definition that we have for a _monoid_ from [Wolfgram Alpha](http://mathworld.wolfram.com/Monoid.html) is: \n",
    "> a set that is closed under an __associative__ _binary operation_ and has an __identity__ element $I$ in $S$ such that for all $a$ in $S$, $Ia=aI=a$.  It can also be thought of as a __semigroup__ with an _identity_ element.\n",
    "\n",
    "So to cover terms:\n",
    "\n",
    "- __*associative*__: means that the operation can be run portions in any order and produce the same result  \n",
    "  - $(1 + 2) + 3 = 1 + (2 + 3)$\n",
    "  - Subtration is an example a non associative opration: $(1 - 2) - 3 \\neq 1 - (2 - 3)$\n",
    "  \n",
    "\n",
    "- __*binary operation*__: a function (operation) that uses exactly two elements.  \n",
    "  - $f(x,y)$\n",
    "\n",
    "\n",
    "- __*identity*__: a element that when combined with another value $x$ returns the same value when run through a given _binary operation_\n",
    "  \n",
    "     $ \\left( \\begin{array}{cc}\n",
    "         a & b \\\\\n",
    "         d & c\n",
    "       \\end{array} \\right)\n",
    "     %\n",
    "       \\left( \\begin{array}{cc}\n",
    "         1 & 0 \\\\\n",
    "         0 & 1\n",
    "       \\end{array} \\right)\n",
    "     %\n",
    "       =\n",
    "     %\n",
    "       \\left( \\begin{array}{cc}\n",
    "         a & b \\\\\n",
    "         d & c\n",
    "       \\end{array} \\right)\n",
    "     $\n",
    "     \n",
    "### Math to code\n",
    "\n",
    "So, understanding the math terms and math syntax is great an all, but how does this end up working in scala?  Lucky for us we have already talked about _type classes_ which is a good thing as...\n",
    "\n",
    "> moniods and semigroups are our first type classes.  \n",
    "> They allow a developer to add or combine values.  <sub>_description from the Scala with Cats book_</sub>"
   ]
  },
  {
   "cell_type": "markdown",
   "metadata": {},
   "source": [
    "## Monoid programatic definition\n",
    "\n",
    "Alright, now that we know a little more about what a monoid is, lets see if we can create one.  In this case we are going to create a monoid trait\n",
    "that can be implemented to provide the implimentation for the identity (called `empty`) and for the associative binary operation (called `combine`).  \n",
    "\n"
   ]
  },
  {
   "cell_type": "code",
   "execution_count": 1,
   "metadata": {},
   "outputs": [
    {
     "data": {
      "text/plain": [
       "defined \u001b[32mtrait\u001b[39m \u001b[36mSimpleMonoid\u001b[39m"
      ]
     },
     "execution_count": 1,
     "metadata": {},
     "output_type": "execute_result"
    }
   ],
   "source": [
    "trait SimpleMonoid[A] {\n",
    "    def combine(left: A, right: A): A\n",
    "    def empty: A\n",
    "}"
   ]
  },
  {
   "cell_type": "markdown",
   "metadata": {},
   "source": [
    "Looking over our definition, we can see a couple of key features. \n",
    "\n",
    "1. It uses a generic type $A$\n",
    "2. The function definition for `combine` is $(A, A) => A$\n",
    "3. The `emtpy` just returns an $A$\n",
    "\n",
    "So now that we have the signature, we can create a concrete implementation.  However we will want to make sure that\n",
    "we follow the laws of a monoid that were described above.\n",
    "\n",
    "1. the `combine` function must be associative, so in code we will want to test that...\n",
    "\n",
    "        SimpleMonoid[A].combine(x, SimpleMonoid[A].combine(y, z)) === SimpleMonoid[A].combine(SimpleMonoid[A].combine(x, y),z)\n",
    "        \n",
    "\n",
    "2. the `emtpy` function result must return the original value...\n",
    "\n",
    "        SimpleMonoid[A].combine(x, empty) === SimpleMonoid[A].combine(empty, x) === x\n",
    "\n",
    "Let's go ahead and create a simple implementation for addition of int types."
   ]
  },
  {
   "cell_type": "code",
   "execution_count": 2,
   "metadata": {},
   "outputs": [
    {
     "data": {
      "text/plain": [
       "\u001b[36maddMonoid\u001b[39m: \u001b[32mAnyRef\u001b[39m with \u001b[32mSimpleMonoid\u001b[39m[\u001b[32mInt\u001b[39m] = ammonite.$sess.cmd1$Helper$$anon$1@38e7af05\n",
       "\u001b[36mres1_1\u001b[39m: \u001b[32mBoolean\u001b[39m = true\n",
       "\u001b[36mres1_2\u001b[39m: \u001b[32mBoolean\u001b[39m = true\n",
       "\u001b[36mres1_3\u001b[39m: \u001b[32mBoolean\u001b[39m = true"
      ]
     },
     "execution_count": 2,
     "metadata": {},
     "output_type": "execute_result"
    }
   ],
   "source": [
    "val addMonoid = new SimpleMonoid[Int] {\n",
    "    def combine(left: Int, right: Int) = left + right\n",
    "    def empty = 0\n",
    "}\n",
    "\n",
    "addMonoid.combine(1, addMonoid.combine(2, 3)) == addMonoid.combine(addMonoid.combine(1,2), 3)\n",
    "addMonoid.combine(2, addMonoid.empty) == addMonoid.combine(addMonoid.empty, 2)\n",
    "addMonoid.combine(2, addMonoid.empty) == 2"
   ]
  },
  {
   "cell_type": "markdown",
   "metadata": {},
   "source": [
    "Great, we have create an `addMonoid` that will work with ints and follows all the requirements of a monoid.  \n",
    "\n",
    "Now, take some time and see if you can implement the code for exercise 2.3 _The Truth About Monoids_.  A solution is provided in the cell below and you are welcome to expand the cell to compare your solution with another one.  \n",
    "\n",
    "### Exercise 2.3 The Truth About Monoids\n",
    "\n",
    "The `Boolean` type has a number of possible operations that can take place, specifically and `and` operation and an `or` operation.  Below, create two different monoids that support each of those operations and validate that your solution is correct.  "
   ]
  },
  {
   "cell_type": "code",
   "execution_count": 3,
   "metadata": {},
   "outputs": [
    {
     "data": {
      "text/plain": [
       "\u001b[36mandMonoid\u001b[39m: \u001b[32mAnyRef\u001b[39m with \u001b[32mSimpleMonoid\u001b[39m[\u001b[32mBoolean\u001b[39m] = ammonite.$sess.cmd2$Helper$$anon$1@7a25707e\n",
       "\u001b[36mres2_1\u001b[39m: \u001b[32mBoolean\u001b[39m = true\n",
       "\u001b[36mres2_2\u001b[39m: \u001b[32mBoolean\u001b[39m = false\n",
       "\u001b[36morMonoid\u001b[39m: \u001b[32mAnyRef\u001b[39m with \u001b[32mSimpleMonoid\u001b[39m[\u001b[32mBoolean\u001b[39m] = ammonite.$sess.cmd2$Helper$$anon$2@2081ee31"
      ]
     },
     "execution_count": 3,
     "metadata": {},
     "output_type": "execute_result"
    }
   ],
   "source": [
    "// Example 2.3 - Your Solution\n",
    "val andMonoid = new SimpleMonoid[Boolean] {\n",
    "    def combine(left: Boolean, right: Boolean) = left && right\n",
    "    def empty = true\n",
    "} \n",
    "\n",
    "andMonoid.combine(true, andMonoid.combine(true, false)) == andMonoid.combine(andMonoid.combine(true, true), false)\n",
    "andMonoid.combine(true, andMonoid.combine(true, false))\n",
    "\n",
    "val orMonoid = new SimpleMonoid[Boolean] {\n",
    "    def combine(left: Boolean, right: Boolean) = left || right\n",
    "    def empty = false\n",
    "}"
   ]
  },
  {
   "cell_type": "code",
   "execution_count": null,
   "metadata": {
    "jupyter": {
     "source_hidden": true
    }
   },
   "outputs": [],
   "source": [
    "// Exercise 2.3 - Example Solution\n",
    "val andMonoid = new SimpleMonoid[Boolean] {\n",
    "    def combine(left: Boolean, right: Boolean) = left && right\n",
    "    def empty = true\n",
    "}\n",
    "\n",
    "andMonoid.combine(true, andMonoid.combine(false, true)) == andMonoid.combine(andMonoid.combine(true, false), true)\n",
    "andMonoid.combine(true, andMonoid.empty) == andMonoid.combine(andMonoid.empty, true)\n",
    "andMonoid.combine(true, andMonoid.empty) == true\n",
    "\n",
    "val orMonoid = new SimpleMonoid[Boolean] {\n",
    "    def combine(left: Boolean, right: Boolean) = left || right\n",
    "    def empty = false\n",
    "}\n",
    "\n",
    "orMonoid.combine(true, orMonoid.combine(false, true)) == orMonoid.combine(orMonoid.combine(true, false), true)\n",
    "orMonoid.combine(true, orMonoid.empty) == orMonoid.combine(orMonoid.empty, true)\n",
    "orMonoid.combine(false, orMonoid.empty) == false"
   ]
  },
  {
   "cell_type": "markdown",
   "metadata": {},
   "source": [
    "## Semigroup definition\n",
    "\n",
    "Talking about monoids shows us that there is not a lot required for a monoid to exist, however it does require an _identity_ element, and this may not exist for all types.  In this\n",
    "case you can create a **Semigroup** which is defined as:\n",
    "> a _monoid_ without the _identity element_.  \n",
    "\n",
    "So, we can implement this in code by creating another trait that just requires the `combine` function to exists.  But, we also want to stay as **DRY** as possible, this means that\n",
    "we can also adjust our `SimpleMonoid` to be defined as inheriting from our _semigroup_.  \n",
    "\n",
    "Lets demonstrate this behavoir below using two traits.  "
   ]
  },
  {
   "cell_type": "code",
   "execution_count": 4,
   "metadata": {},
   "outputs": [
    {
     "data": {
      "text/plain": [
       "defined \u001b[32mtrait\u001b[39m \u001b[36mSemiGroup\u001b[39m\n",
       "defined \u001b[32mtrait\u001b[39m \u001b[36mSimpleMonoid\u001b[39m"
      ]
     },
     "execution_count": 4,
     "metadata": {},
     "output_type": "execute_result"
    }
   ],
   "source": [
    "trait SemiGroup[A] {\n",
    "    def combine(left: A, right: A): A\n",
    "}\n",
    "\n",
    "trait SimpleMonoid[A] extends SemiGroup[A] {\n",
    "    def empty: A\n",
    "}"
   ]
  },
  {
   "cell_type": "markdown",
   "metadata": {},
   "source": [
    "It is important to note that certain operations require that an identity exist, this is usually to act as a terminator or starting point.  \n",
    "\n",
    "A common example is the `cons` operator ( `::` ).  When working with the cons operator you can add elements to a new list created using the _identity_ element which is represented by `Nil`.  \n",
    "\n",
    "        3 :: 4 :: 5 :: Nil"
   ]
  },
  {
   "cell_type": "markdown",
   "metadata": {},
   "source": [
    "### Exercise 2.4 All Set for Monoids\n",
    "\n",
    "This next exercise is more of a thinking exercise.  If we have a `Set` there are certain operations that apply to a set, including `union`, `intersection`, etc. \n",
    "\n",
    "Think about these different operations and answer if it is a `monoid` or a `semigroup` or neither.  "
   ]
  },
  {
   "cell_type": "markdown",
   "metadata": {},
   "source": [
    "## Monoids and Cats\n",
    "\n",
    "One of the benefits of the cats library is that it provides many type classes for us already, this includes both the `Monoid` and the `Semigroup` type classes.  In this next section we are going to demonstrate how to use the supplied implementations for certains types (such as string) as well as creating an implementation for our own type.  \n",
    "\n",
    "To start we will need to import the cats library calls.  "
   ]
  },
  {
   "cell_type": "code",
   "execution_count": 5,
   "metadata": {
    "collapsed": true,
    "jupyter": {
     "outputs_hidden": true
    }
   },
   "outputs": [
    {
     "data": {
      "text/plain": [
       "\u001b[32mimport \u001b[39m\u001b[36m$ivy.$                               \n",
       "\n",
       "\u001b[39m\n",
       "\u001b[32mimport \u001b[39m\u001b[36mcats.{Monoid, Semigroup}\n",
       "\u001b[39m\n",
       "\u001b[32mimport \u001b[39m\u001b[36mcats.instances.string._    // for Monoid[String]\n",
       "\u001b[39m\n",
       "\u001b[32mimport \u001b[39m\u001b[36mcats.instances.int._       // for Monoid[Int]\n",
       "\u001b[39m\n",
       "\u001b[32mimport \u001b[39m\u001b[36mcats.instances.option._    // for Monoid[Option[A]]\n",
       "\u001b[39m\n",
       "\u001b[32mimport \u001b[39m\u001b[36mcats.syntax.option._       // for x.some\u001b[39m"
      ]
     },
     "execution_count": 5,
     "metadata": {},
     "output_type": "execute_result"
    }
   ],
   "source": [
    "import $ivy.`org.typelevel::cats-core:2.0.0`\n",
    "\n",
    "import cats.{Monoid, Semigroup}\n",
    "import cats.instances.string._    // for Monoid[String]\n",
    "import cats.instances.int._       // for Monoid[Int]\n",
    "import cats.instances.option._    // for Monoid[Option[A]]\n",
    "import cats.syntax.option._       // for x.some"
   ]
  },
  {
   "cell_type": "code",
   "execution_count": 6,
   "metadata": {},
   "outputs": [
    {
     "data": {
      "text/plain": [
       "\u001b[36mres5_0\u001b[39m: \u001b[32mInt\u001b[39m = \u001b[32m3\u001b[39m\n",
       "\u001b[36mres5_1\u001b[39m: \u001b[32mString\u001b[39m = \u001b[32m\"Hithere\"\u001b[39m\n",
       "\u001b[36mres5_2\u001b[39m: \u001b[32mInt\u001b[39m = \u001b[32m1\u001b[39m\n",
       "\u001b[36mres5_3\u001b[39m: \u001b[32mOption\u001b[39m[\u001b[32mInt\u001b[39m] = \u001b[33mSome\u001b[39m(\u001b[32m4\u001b[39m)"
      ]
     },
     "execution_count": 6,
     "metadata": {},
     "output_type": "execute_result"
    }
   ],
   "source": [
    "Monoid[Int].combine(1, 2)\n",
    "Monoid[String].combine(\"Hi\", \"there\")\n",
    "\n",
    "Monoid[Int].combine(1, Monoid[Int].empty)\n",
    "\n",
    "Monoid[Option[Int]].combine(1.some, 3.some)"
   ]
  },
  {
   "cell_type": "markdown",
   "metadata": {},
   "source": [
    "### Nice operators\n",
    "\n",
    "Since we are working with a more functional paradigm, it would be nice if there was an operator that we could use to make the code\n",
    "more consise.  Luckily cats does provide some _syntatical sugar_ in the form of the `|+|` operator."
   ]
  },
  {
   "cell_type": "code",
   "execution_count": 7,
   "metadata": {},
   "outputs": [
    {
     "data": {
      "text/plain": [
       "\u001b[32mimport \u001b[39m\u001b[36mcats.syntax.semigroup._\u001b[39m"
      ]
     },
     "execution_count": 7,
     "metadata": {},
     "output_type": "execute_result"
    }
   ],
   "source": [
    "// Have to import in a different cell\n",
    "import cats.syntax.semigroup._"
   ]
  },
  {
   "cell_type": "code",
   "execution_count": 8,
   "metadata": {},
   "outputs": [
    {
     "data": {
      "text/plain": [
       "\u001b[36mres7_0\u001b[39m: \u001b[32mString\u001b[39m = \u001b[32m\"Hi mis amigos\"\u001b[39m\n",
       "\u001b[36mres7_1\u001b[39m: \u001b[32mString\u001b[39m = \u001b[32m\"Hi mis amigos\"\u001b[39m"
      ]
     },
     "execution_count": 8,
     "metadata": {},
     "output_type": "execute_result"
    }
   ],
   "source": [
    "\"Hi \" |+| \"mis \" |+| \"amigos\"\n",
    "\"Hi \" |+| \"mis \" |+| \"amigos\" |+| Monoid[String].empty"
   ]
  },
  {
   "cell_type": "markdown",
   "metadata": {},
   "source": [
    "### Our own Cat Monoid\n",
    "\n",
    "Now that we have worked with the supplied monoid and semigroup instances from the cats library, lets create our own type and create a couple of _monoids_ or _semigroups_ that we want to use.  \n",
    "\n",
    "To start we are going to create a `Cat` class. This class is pretty simple and only has two attributes:\n",
    "\n",
    "- `name`: __String__\n",
    "- `age`: __Int__\n",
    "\n",
    "Lets start by defining the class and creating an `addCats` monoid.  "
   ]
  },
  {
   "cell_type": "code",
   "execution_count": 10,
   "metadata": {},
   "outputs": [
    {
     "data": {
      "text/plain": [
       "defined \u001b[32mclass\u001b[39m \u001b[36mCat\u001b[39m\n",
       "\u001b[36maddCats\u001b[39m: \u001b[32mMonoid\u001b[39m[\u001b[32mCat\u001b[39m] = ammonite.$sess.cmd9$Helper$$anon$1@4c9cfbe2\n",
       "\u001b[36mres9_2\u001b[39m: \u001b[32mBoolean\u001b[39m = true\n",
       "\u001b[36mres9_3\u001b[39m: \u001b[32mBoolean\u001b[39m = true\n",
       "\u001b[36mres9_4\u001b[39m: \u001b[32mCat\u001b[39m = \u001b[33mCat\u001b[39m(\u001b[32m\"meow\"\u001b[39m, \u001b[32m6\u001b[39m)"
      ]
     },
     "execution_count": 10,
     "metadata": {},
     "output_type": "execute_result"
    }
   ],
   "source": [
    "case class Cat(name: String, age: Int)\n",
    "\n",
    "implicit val addCats: Monoid[Cat] = new Monoid[Cat] {\n",
    "    val identityCat: Cat = Cat(\"\", 0)\n",
    "    \n",
    "    // Build primitive to also use the monoid combine operation if possible\n",
    "    def combine(left: Cat, right: Cat): Cat = Cat(left.name |+| right.name, left.age |+| right.age)\n",
    "    def empty: Cat = identityCat\n",
    "}\n",
    "\n",
    "(Cat(\"me\", 2) |+| (Cat(\"ow\", 4) |+| Cat(\"er\", 2))) == ((Cat(\"me\", 2) |+| Cat(\"ow\", 4)) |+| Cat(\"er\", 2))\n",
    "(addCats.empty |+| Cat(\"spot\", 1)) == (Cat(\"spot\", 1) |+| addCats.empty)\n",
    "Cat(\"me\", 2) |+| Cat(\"ow\", 4)"
   ]
  },
  {
   "cell_type": "markdown",
   "metadata": {},
   "source": [
    "## Where is this useful\n",
    "\n",
    "There are a number of useful examples where having access to _semigroups_ and _monoids_ becomes useful.  \n",
    "\n",
    "1. Big Data (Map/Reduce)\n",
    "2. Distributed Operations\n",
    "    - CRDTs"
   ]
  },
  {
   "cell_type": "code",
   "execution_count": null,
   "metadata": {},
   "outputs": [],
   "source": []
  }
 ],
 "metadata": {
  "kernelspec": {
   "display_name": "Scala 2.12",
   "language": "scala",
   "name": "scala212"
  },
  "language_info": {
   "codemirror_mode": "text/x-scala",
   "file_extension": ".scala",
   "mimetype": "text/x-scala",
   "name": "scala",
   "nbconvert_exporter": "script",
   "version": "2.12.10"
  }
 },
 "nbformat": 4,
 "nbformat_minor": 4
}
