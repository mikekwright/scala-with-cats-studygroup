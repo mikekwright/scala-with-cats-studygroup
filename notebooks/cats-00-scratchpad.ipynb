{
 "cells": [
  {
   "cell_type": "markdown",
   "metadata": {},
   "source": [
    "# Cats 00 - Scratchpad\n",
    "\n",
    "This notebook is just a place to store thoughts, insights, or unanswered questions while going through the `Scala with Cats` study group. "
   ]
  },
  {
   "cell_type": "markdown",
   "metadata": {},
   "source": [
    "## Pipe operator\n",
    "\n",
    "One of the discussion points that we have had is the pipe operator and how it can make code look cleaner by\n",
    "allowing the result from a single operation to be piped into another function.  This is a common pattern in\n",
    "base\n",
    "\n",
    "    ls -lah | grep something\n",
    "    \n",
    "But there are other pipe examples. Below is an example of the pipe operator used in `elm` [Understanding pipes in elm](https://www.smoothterminal.com/articles/understanding-pipes-in-elm)\n",
    "\n",
    "```elm\n",
    "weirdReversal2 str =\n",
    "  str\n",
    "    |> String.reverse\n",
    "    |> String.toUpper\n",
    "    |> String.filter isNotSpace\n",
    "```"
   ]
  },
  {
   "cell_type": "code",
   "execution_count": 3,
   "metadata": {},
   "outputs": [
    {
     "name": "stdout",
     "output_type": "stream",
     "text": [
      "20\n"
     ]
    },
    {
     "data": {
      "text/plain": [
       "defined \u001b[32mfunction\u001b[39m \u001b[36madd10\u001b[39m"
      ]
     },
     "execution_count": 3,
     "metadata": {},
     "output_type": "execute_result"
    }
   ],
   "source": [
    "// Turns out there is already an implementation in this kernel\n",
    "//   for ammonite.ops.Pipeable[T]\n",
    "//\n",
    "// implicit class AnyEx[T](val v: T) extends AnyVal {\n",
    "//   def |>[U](f: T ⇒ U) = f(v)\n",
    "// }\n",
    "\n",
    "def add10(x: Int): Int = x + 10\n",
    "\n",
    "10 |> add10 |> println"
   ]
  },
  {
   "cell_type": "code",
   "execution_count": null,
   "metadata": {},
   "outputs": [],
   "source": []
  }
 ],
 "metadata": {
  "kernelspec": {
   "display_name": "Scala 2.12",
   "language": "scala",
   "name": "scala212"
  },
  "language_info": {
   "codemirror_mode": "text/x-scala",
   "file_extension": ".scala",
   "mimetype": "text/x-scala",
   "name": "scala",
   "nbconvert_exporter": "script",
   "version": "2.12.10"
  }
 },
 "nbformat": 4,
 "nbformat_minor": 4
}
