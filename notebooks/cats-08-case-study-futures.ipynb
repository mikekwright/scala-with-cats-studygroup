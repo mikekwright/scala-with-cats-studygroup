{
 "cells": [
  {
   "cell_type": "markdown",
   "metadata": {},
   "source": [
    "# Case Study: Testing Asynchronous Code\n",
    "\n"
   ]
  },
  {
   "cell_type": "markdown",
   "metadata": {},
   "source": [
    "For this case study, we are going to look at how we can create a test where the value we are asserting for\n",
    "and the response from the method under test do not match up with one being a `Future[Int]` and the other\n",
    "being an `Int`.  \n",
    "\n",
    "As always, we first start by making sure that we have the cat's library installed."
   ]
  },
  {
   "cell_type": "code",
   "execution_count": null,
   "metadata": {},
   "outputs": [],
   "source": [
    "import $ivy.`org.typelevel::cats-core:2.0.0`"
   ]
  },
  {
   "cell_type": "markdown",
   "metadata": {},
   "source": [
    "Having the library installed, lets now import our scala library and cats implicits that we will use in this notebook, namely the\n",
    "imports needed to make `Traverse` and `Applicative` accessible within our notebook. "
   ]
  },
  {
   "cell_type": "code",
   "execution_count": null,
   "metadata": {},
   "outputs": [],
   "source": [
    "import scala.concurrent.ExecutionContext.Implicits.global\n",
    "import scala.concurrent.Future\n",
    "\n",
    "// Required to enable the higher kinded types in scala (support for F[_])\n",
    "import scala.language.higherKinds\n",
    "\n",
    "import cats.Applicative\n",
    "import cats.instances.future._ // for Applicative\n",
    "import cats.instances.list._ // for Traverse\n",
    "import cats.syntax.traverse._ // for traverse\n",
    "import cats.syntax.functor._ // for map"
   ]
  },
  {
   "cell_type": "markdown",
   "metadata": {},
   "source": [
    "Now that we have our environment setup, lets begin by creating an example problem that we are going to solve.  \n",
    "\n",
    "## Test Case\n",
    "\n",
    "Our company, uptime international, provides services to support other companies track their uptime.  To that end\n",
    "we have a very simple interface that users can use to obtain their uptime.  By providing us with a given hostname\n",
    "we will, in turn, return the number of days that the service has been considered to be **up**.  \n",
    "\n",
    "Our trait for this use case is pretty simple, we will provide a single function that takes in a hostname\n",
    "and returns a `Future[Int]` as this will be an asynchronous request.  "
   ]
  },
  {
   "cell_type": "code",
   "execution_count": null,
   "metadata": {},
   "outputs": [],
   "source": [
    "trait UptimeClient {\n",
    "  def getUptime(hostname: String): Future[Int]\n",
    "}"
   ]
  },
  {
   "cell_type": "markdown",
   "metadata": {},
   "source": [
    "Wonderful, now lets create a sample service that can be used at a higher level, making it easier for clients with multiple hostnames to get their uptime results all at once.  "
   ]
  },
  {
   "cell_type": "code",
   "execution_count": null,
   "metadata": {},
   "outputs": [],
   "source": [
    "class UptimeService(client: UptimeClient) {\n",
    "  def getTotalUptime(hostnames: List[String]): Future[Int] = hostnames.traverse(client.getUptime(_)).map(_.sum)\n",
    "}"
   ]
  },
  {
   "cell_type": "markdown",
   "metadata": {},
   "source": [
    "So we have an trait for the client that will make the requests to our system, and have provided, in the library, a helper implementation that wraps a clients functionality when more complex requests are needed.  In the later case we have added some business logic, so it would behoove us to add some testing to verify:\n",
    "1. Our functionality is correct\n",
    "2. We do not break our functionality with future changes\n"
   ]
  },
  {
   "cell_type": "markdown",
   "metadata": {},
   "source": [
    "## Creating Tests\n",
    "\n",
    "To start, we want to have a test client that we could mock using a mocking framework (such as mockito) or we could create a stub implementation.  Because our client consists of only a single request, lets create a stub that will have the necessary information provided when it is created.  "
   ]
  },
  {
   "cell_type": "code",
   "execution_count": null,
   "metadata": {},
   "outputs": [],
   "source": [
    "class TestUptimeClient(hosts: Map[String, Int]) extends UptimeClient {\n",
    "  def getUptime(hostname: String): Future[Int] = Future.successful(hosts.getOrElse(hostname, 0))\n",
    "}"
   ]
  },
  {
   "cell_type": "markdown",
   "metadata": {},
   "source": [
    "With our stubbed client, lets create a simple test to verify our functionality. "
   ]
  },
  {
   "cell_type": "code",
   "execution_count": null,
   "metadata": {},
   "outputs": [],
   "source": [
    "def testTotalUptime() = {\n",
    "  val hosts = Map(\"host1\" -> 10, \"host2\" -> 6)\n",
    "  val client = new TestUptimeClient(hosts)\n",
    "  val service = new UptimeService(client)\n",
    "  val actual = service.getTotalUptime(hosts.keys.toList)\n",
    "  val expected = hosts.values.sum\n",
    "  assert(expected == actual)\n",
    "}\n",
    "\n",
    "// run our test\n",
    "testTotalUptime()"
   ]
  },
  {
   "cell_type": "markdown",
   "metadata": {},
   "source": [
    "Hmm, our test failed.  Looking over our implementation it should not have had an issue.  However if we look more closely at what is happening we are comparing a `Future[Int]` that is returned from `service.getTotalUptime` with that of an `Int` with the value of **16** which we obtain from our `hosts.values.sum` code.  \n",
    "\n",
    "Using cats there is a way that we can solve this by utilizing `Type Constructors`.  "
   ]
  },
  {
   "cell_type": "markdown",
   "metadata": {},
   "source": [
    "## Cats Solution\n",
    "\n",
    "The way to handle this issue is to provide two traits instead of one, the second trait will be one for testing and will return an `Int` instead of a `Future[Int]`.\n",
    "\n",
    "We will create two new traits, one for the asynchronous form and one for the synchronous form. Both of these traits will inherit from `UptimeClient` however what should the return type be for the function getUptime in the base trait?"
   ]
  },
  {
   "cell_type": "code",
   "execution_count": null,
   "metadata": {},
   "outputs": [],
   "source": [
    "trait UptimeClient {\n",
    "    def getUptime(hostname: String): ???\n",
    "}\n",
    "\n",
    "trait AsynchronousUptimeClient extends UptimeClient {\n",
    "    def getUptime(hostname: String): Future[Int]\n",
    "}\n",
    "\n",
    "trait SynchronousUptimeClient extends UptimeClient{\n",
    "    def getUptime(hostname: String): Int\n",
    "}"
   ]
  },
  {
   "cell_type": "code",
   "execution_count": null,
   "metadata": {
    "jupyter": {
     "source_hidden": true
    }
   },
   "outputs": [],
   "source": [
    "import cats.Id\n",
    "\n",
    "trait UptimeClient[F[_]] {\n",
    "    def getUptime(hostname: String): F[Int]\n",
    "}\n",
    "\n",
    "trait AsynchronousUptimeClient extends UptimeClient[Future] {\n",
    "    def getUptime(hostname: String): Future[Int]\n",
    "}\n",
    "\n",
    "trait SynchronousUptimeClient extends UptimeClient[Id] {\n",
    "    def getUptime(hostname: String): Id[Int]\n",
    "}"
   ]
  },
  {
   "cell_type": "markdown",
   "metadata": {},
   "source": [
    "Alright, so we have our definition in place, lets create our TestUptimeClient to work with just an `Int`. "
   ]
  },
  {
   "cell_type": "code",
   "execution_count": null,
   "metadata": {},
   "outputs": [],
   "source": [
    "// class TestUptimeClient..."
   ]
  },
  {
   "cell_type": "code",
   "execution_count": null,
   "metadata": {
    "jupyter": {
     "source_hidden": true
    }
   },
   "outputs": [],
   "source": [
    "class TestUptimeClient(hosts: Map[String, Int]) extends UptimeClient[Id] {\n",
    "    def getUptime(hostname: String): Int = hosts.getOrElse(hostname, 0)\n",
    "}"
   ]
  },
  {
   "cell_type": "markdown",
   "metadata": {},
   "source": [
    "Now that we have the client trait and test client both updated, lets focus on updating the service to be abstracted over both of the clients.  "
   ]
  },
  {
   "cell_type": "code",
   "execution_count": null,
   "metadata": {},
   "outputs": [],
   "source": [
    "// class UptimeService..."
   ]
  },
  {
   "cell_type": "code",
   "execution_count": null,
   "metadata": {
    "jupyter": {
     "source_hidden": true
    }
   },
   "outputs": [],
   "source": [
    "class UptimeService[F[_]](client: UptimeClient[F]) {\n",
    "    def getTotalUptime(hostnames: List[String]): F[Int] = ???\n",
    "}"
   ]
  },
  {
   "cell_type": "markdown",
   "metadata": {},
   "source": [
    "Looking at the above code, the reason that we are having a failure is that `Traverse` is expecting the type supplied to be an `Applicative` and the `Future[Int]` has an applicative, but `F[Int]` does not.  So as described in the book we need to:\n",
    "> We need to prove to the compiler that F has an Applicative. \n",
    "> Do this by adding an implicit constructor parameter to UptimeService ."
   ]
  },
  {
   "cell_type": "code",
   "execution_count": null,
   "metadata": {},
   "outputs": [],
   "source": [
    "// class UptimeService[F[_]]..."
   ]
  },
  {
   "cell_type": "code",
   "execution_count": null,
   "metadata": {
    "jupyter": {
     "source_hidden": true
    }
   },
   "outputs": [],
   "source": [
    "class UptimeService[F[_]](client: UptimeClient[F])(implicit a: Applicative[F]) {\n",
    "    def getTotalUptime(hostnames: List[String]): F[Int] = hostnames.traverse(client.getUptime).map(_.sum)\n",
    "}"
   ]
  },
  {
   "cell_type": "markdown",
   "metadata": {},
   "source": [
    "## Re-run Test\n",
    "\n",
    "Alright, all of our hooks should now be in place for us to run our test and see the results.  "
   ]
  },
  {
   "cell_type": "code",
   "execution_count": null,
   "metadata": {},
   "outputs": [],
   "source": [
    "def testTotalUptime() = {\n",
    "  val hosts = Map(\"host1\" -> 10, \"host2\" -> 6)\n",
    "  val client = new TestUptimeClient(hosts)\n",
    "  val service = new UptimeService(client)\n",
    "  val actual = service.getTotalUptime(hosts.keys.toList)\n",
    "  val expected = hosts.values.sum\n",
    "  assert(expected == actual)\n",
    "}\n",
    "\n",
    "// run our test\n",
    "testTotalUptime()"
   ]
  },
  {
   "cell_type": "code",
   "execution_count": null,
   "metadata": {},
   "outputs": [],
   "source": []
  }
 ],
 "metadata": {
  "kernelspec": {
   "display_name": "Scala 2.12",
   "language": "scala",
   "name": "scala212"
  },
  "language_info": {
   "codemirror_mode": "text/x-scala",
   "file_extension": ".scala",
   "mimetype": "text/x-scala",
   "name": "scala",
   "nbconvert_exporter": "script",
   "version": "2.12.10"
  }
 },
 "nbformat": 4,
 "nbformat_minor": 4
}
