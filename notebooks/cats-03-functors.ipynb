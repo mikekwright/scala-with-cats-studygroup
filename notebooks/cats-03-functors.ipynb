{
 "cells": [
  {
   "cell_type": "markdown",
   "metadata": {},
   "source": [
    "# Functors\n",
    "\n",
    "A functor is an abstraction for representing a sequence of operations (transformations) that can be run.  While they may not be the most useful directly, they are the basis for _monads_ and _applicative functors_.  \n",
    "\n",
    "In this section we are going to go through some of the basics of functors and how to implement them in scala as well as with cats.  "
   ]
  },
  {
   "cell_type": "code",
   "execution_count": 3,
   "metadata": {},
   "outputs": [
    {
     "data": {
      "text/plain": [
       "\u001b[32mimport \u001b[39m\u001b[36mscala.language.higherKinds\u001b[39m"
      ]
     },
     "execution_count": 3,
     "metadata": {},
     "output_type": "execute_result"
    }
   ],
   "source": [
    "// Required to enable the higher kinded types in scala (support for F[_])\n",
    "import scala.language.higherKinds"
   ]
  },
  {
   "cell_type": "markdown",
   "metadata": {},
   "source": [
    "## Functor Overview\n",
    "\n",
    "A functor can be simply defined as anything with a **map** method, for example `List` has a map method, which takes each element and runs a transformation and returns a collection containing the result.  "
   ]
  },
  {
   "cell_type": "code",
   "execution_count": 5,
   "metadata": {},
   "outputs": [
    {
     "data": {
      "text/plain": [
       "\u001b[36mres4\u001b[39m: \u001b[32mList\u001b[39m[\u001b[32mInt\u001b[39m] = \u001b[33mList\u001b[39m(\u001b[32m2\u001b[39m, \u001b[32m3\u001b[39m, \u001b[32m4\u001b[39m)"
      ]
     },
     "execution_count": 5,
     "metadata": {},
     "output_type": "execute_result"
    }
   ],
   "source": [
    "List(1, 2, 3).map(x => x + 1)"
   ]
  },
  {
   "cell_type": "markdown",
   "metadata": {},
   "source": [
    "You can also chain multiple map calls together into a more complex transformation.  "
   ]
  },
  {
   "cell_type": "code",
   "execution_count": 6,
   "metadata": {},
   "outputs": [
    {
     "data": {
      "text/plain": [
       "\u001b[36mres5\u001b[39m: \u001b[32mList\u001b[39m[\u001b[32mInt\u001b[39m] = \u001b[33mList\u001b[39m(\u001b[32m-4\u001b[39m, \u001b[32m-6\u001b[39m, \u001b[32m-8\u001b[39m)"
      ]
     },
     "execution_count": 6,
     "metadata": {},
     "output_type": "execute_result"
    }
   ],
   "source": [
    "List(1, 2, 3).\n",
    "  map(x => x + 1).\n",
    "  map(x => x * 2).\n",
    "  map(x => x * -1)"
   ]
  },
  {
   "cell_type": "markdown",
   "metadata": {},
   "source": [
    "It is important that we call out that we can also accomplish this same functionality using _composition_ instead, however it is not nearly as nice. "
   ]
  },
  {
   "cell_type": "code",
   "execution_count": 7,
   "metadata": {},
   "outputs": [
    {
     "data": {
      "text/plain": [
       "defined \u001b[32mfunction\u001b[39m \u001b[36maddOne\u001b[39m\n",
       "defined \u001b[32mfunction\u001b[39m \u001b[36mmulTwo\u001b[39m\n",
       "defined \u001b[32mfunction\u001b[39m \u001b[36mneg\u001b[39m\n",
       "\u001b[36mres6_3\u001b[39m: \u001b[32mList\u001b[39m[\u001b[32mInt\u001b[39m] = \u001b[33mList\u001b[39m(\u001b[32m-4\u001b[39m, \u001b[32m-6\u001b[39m, \u001b[32m-8\u001b[39m)"
      ]
     },
     "execution_count": 7,
     "metadata": {},
     "output_type": "execute_result"
    }
   ],
   "source": [
    "// This is ugly\n",
    "def addOne(x: Int) = x + 1\n",
    "def mulTwo(x: Int) = x * 2\n",
    "def neg(x: Int) = x * -1\n",
    "\n",
    "List(\n",
    "    neg(mulTwo(addOne(1))),\n",
    "    neg(mulTwo(addOne(2))),\n",
    "    neg(mulTwo(addOne(3))),\n",
    ")"
   ]
  },
  {
   "cell_type": "markdown",
   "metadata": {},
   "source": [
    "## Format Definition\n",
    "\n",
    "The formation definition of a functor is a type `F[A]` with a `map` operation defined below.  \n",
    "\n",
    "```scala\n",
    "(A => B) => F[B]\n",
    "```\n",
    "\n",
    "So we can define our map function as follows.  \n",
    "\n",
    "```scala\n",
    "def map[A,B](source: F[A])(op: A => B): F[B]\n",
    "```\n"
   ]
  },
  {
   "cell_type": "code",
   "execution_count": 11,
   "metadata": {},
   "outputs": [
    {
     "data": {
      "text/plain": [
       "defined \u001b[32mtrait\u001b[39m \u001b[36mFunctor\u001b[39m\n",
       "\u001b[36maddOne\u001b[39m: \u001b[32mInt\u001b[39m => \u001b[32mInt\u001b[39m = ammonite.$sess.cmd10$Helper$$Lambda$2218/1435677445@50b6af87\n",
       "\u001b[36mmulTwo\u001b[39m: \u001b[32mInt\u001b[39m => \u001b[32mInt\u001b[39m = ammonite.$sess.cmd10$Helper$$Lambda$2219/733939957@e838dcc\n",
       "\u001b[36mbothOps\u001b[39m: \u001b[32mInt\u001b[39m => \u001b[32mInt\u001b[39m = scala.Function1$$Lambda$378/215082566@619a84b\n",
       "\u001b[36mres10_4\u001b[39m: \u001b[32mInt\u001b[39m = \u001b[32m6\u001b[39m"
      ]
     },
     "execution_count": 11,
     "metadata": {},
     "output_type": "execute_result"
    }
   ],
   "source": [
    "trait Functor[F[_]] {\n",
    "    def map[A, B](source: F[A])(op: A => B): F[B]\n",
    "}\n",
    "\n",
    "val addOne = (x: Int) => x + 1   // A: Int, B: Int\n",
    "val mulTwo = (x: Int) => x * 2   // A: Int, B: Int\n",
    "\n",
    "val bothOps = addOne andThen mulTwo    // A: Int, B: Int\n",
    "bothOps(2)"
   ]
  },
  {
   "cell_type": "markdown",
   "metadata": {},
   "source": [
    "## Cats Functors\n",
    "\n",
    "**TODO:** Fill in the context of cats and functors from cats. "
   ]
  },
  {
   "cell_type": "code",
   "execution_count": null,
   "metadata": {},
   "outputs": [],
   "source": []
  }
 ],
 "metadata": {
  "kernelspec": {
   "display_name": "Scala 2.12",
   "language": "scala",
   "name": "scala212"
  },
  "language_info": {
   "codemirror_mode": "text/x-scala",
   "file_extension": ".scala",
   "mimetype": "text/x-scala",
   "name": "scala",
   "nbconvert_exporter": "script",
   "version": "2.12.10"
  }
 },
 "nbformat": 4,
 "nbformat_minor": 4
}
