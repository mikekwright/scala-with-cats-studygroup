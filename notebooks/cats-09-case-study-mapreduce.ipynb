{
 "cells": [
  {
   "cell_type": "markdown",
   "metadata": {},
   "source": [
    "# Case Study: MapReduce\n",
    "\n"
   ]
  },
  {
   "cell_type": "markdown",
   "metadata": {},
   "source": [
    "For this case study we are going to look at the very popular concept of **MapReduce**.  This is a commonly used technique in the industry, especially when working with big data.  There are a lot of common tools out there that support this paradigm, a really popular one is **Spark**.  \n",
    "\n",
    "The basic idea is easy to decipher from the name itself, it we pull it apart into _Map_ and _Reduce_ what we have are two main operations. \n",
    "\n",
    "1. **Map** which is to iterate over a list of values and return some value\n",
    "2. **Reduce** apply an operation on all and return a smaller list of the results (combined, grouped, etc).\n",
    "\n",
    "These functional paradigms exists in scala and **Map** would most closely relate to the `map` function in scala, and **Reduce** would be `fold`.  \n",
    "\n",
    "![MapReduce - foldMap](images/foldmap.png)\n",
    "\n",
    "Lets start by making sure we have everything loaded/imported that we need in this notebook. "
   ]
  },
  {
   "cell_type": "code",
   "execution_count": 1,
   "metadata": {
    "collapsed": true,
    "jupyter": {
     "outputs_hidden": true
    }
   },
   "outputs": [
    {
     "data": {
      "text/plain": [
       "\u001b[32mimport \u001b[39m\u001b[36m$ivy.$                               \u001b[39m"
      ]
     },
     "execution_count": 1,
     "metadata": {},
     "output_type": "execute_result"
    }
   ],
   "source": [
    "import $ivy.`org.typelevel::cats-core:2.0.0`"
   ]
  },
  {
   "cell_type": "code",
   "execution_count": 2,
   "metadata": {
    "collapsed": true,
    "jupyter": {
     "outputs_hidden": true
    }
   },
   "outputs": [
    {
     "data": {
      "text/plain": [
       "\u001b[32mimport \u001b[39m\u001b[36mscala.language.higherKinds\n",
       "\n",
       "\u001b[39m\n",
       "\u001b[32mimport \u001b[39m\u001b[36mscala.concurrent._\n",
       "\u001b[39m\n",
       "\u001b[32mimport \u001b[39m\u001b[36mscala.concurrent.duration._\n",
       "\n",
       "\u001b[39m\n",
       "\u001b[32mimport \u001b[39m\u001b[36mscala.concurrent.Future\n",
       "\u001b[39m\n",
       "\u001b[32mimport \u001b[39m\u001b[36mscala.concurrent.ExecutionContext.Implicits.global\n",
       "\n",
       "\u001b[39m\n",
       "\u001b[32mimport \u001b[39m\u001b[36mcats.{Monad, Monoid}\n",
       "\u001b[39m\n",
       "\u001b[32mimport \u001b[39m\u001b[36mcats.syntax.semigroup._ // for |+|\n",
       "\u001b[39m\n",
       "\u001b[32mimport \u001b[39m\u001b[36mcats.instances.int._ // for Monoid\n",
       "\u001b[39m\n",
       "\u001b[32mimport \u001b[39m\u001b[36mcats.instances.string._ // for Monoid\n",
       "\u001b[39m\n",
       "\u001b[32mimport \u001b[39m\u001b[36mcats.instances.future._ // for Applicative\n",
       "\u001b[39m\n",
       "\u001b[32mimport \u001b[39m\u001b[36mcats.instances.list._ // for Traverse\n",
       "\u001b[39m\n",
       "\u001b[32mimport \u001b[39m\u001b[36mcats.syntax.traverse._ // for sequence\n",
       "\u001b[39m\n",
       "\u001b[32mimport \u001b[39m\u001b[36mcats.instances.int._\u001b[39m"
      ]
     },
     "execution_count": 2,
     "metadata": {},
     "output_type": "execute_result"
    }
   ],
   "source": [
    "// Required to enable the higher kinded types in scala (support for F[_])\n",
    "import scala.language.higherKinds\n",
    "\n",
    "import scala.concurrent._\n",
    "import scala.concurrent.duration._\n",
    "\n",
    "import scala.concurrent.Future\n",
    "import scala.concurrent.ExecutionContext.Implicits.global\n",
    "\n",
    "import cats.{Monad, Monoid}\n",
    "import cats.syntax.semigroup._ // for |+|\n",
    "import cats.instances.int._ // for Monoid\n",
    "import cats.instances.string._ // for Monoid\n",
    "import cats.instances.future._ // for Applicative\n",
    "import cats.instances.list._ // for Traverse\n",
    "import cats.syntax.traverse._ // for sequence\n",
    "import cats.instances.int._"
   ]
  },
  {
   "cell_type": "markdown",
   "metadata": {},
   "source": [
    "To begin our discussion, lets make sure that we have a clear understanding of what the map function's signature looks like.  In a general sense, it is applying a function `A => B` to an `F[A]` which should return an `F[B]`.  \n",
    "\n",
    "Below is an illustration of this signature (from the cats book).  \n",
    "\n",
    "![Cats Image - MapReduce Functor and Fold](images/mapreduce-functor.png)\n",
    "\n",
    "So any data type that has both the type classes, _functor_ and _foldable_, can be setup for map-reduce.  There is one caveat as well, when we are running the traversal, we will lose control over the order that items are applied, and so we will need to make sure that we are also **associative** (and, of course, identity): \n",
    "\n",
    "```scala\n",
    "reduce(a1, reduce(a2, a3)) == reduce(reduce(a1, a2), a3)\n",
    "```"
   ]
  },
  {
   "cell_type": "markdown",
   "metadata": {},
   "source": [
    "## Implementing Foldmap\n",
    "\n",
    "To start, lets implement foldmap.  The foldmap implementation, is basically a small map-reduce in and of itself, but run on one thread.  Lets first start by defining the signature to do the following. \n",
    "\n",
    "* accept a sequence of type `Vector[A]`\n",
    "*accept a func on of type `A => B` , where there is a Monoid for `B`\n"
   ]
  },
  {
   "cell_type": "code",
   "execution_count": 3,
   "metadata": {},
   "outputs": [
    {
     "data": {
      "text/plain": [
       "defined \u001b[32mfunction\u001b[39m \u001b[36mfoldmap\u001b[39m"
      ]
     },
     "execution_count": 3,
     "metadata": {},
     "output_type": "execute_result"
    }
   ],
   "source": [
    "def foldmap[A, B: Monoid](value: Vector[A])(func: A => B): B = ???"
   ]
  },
  {
   "cell_type": "code",
   "execution_count": null,
   "metadata": {
    "jupyter": {
     "source_hidden": true
    }
   },
   "outputs": [],
   "source": [
    "def foldMap[A, B: Monoid](values: Vector[A])(func: A => B): B = ???"
   ]
  },
  {
   "cell_type": "markdown",
   "metadata": {},
   "source": [
    "Now, with our given signature, lets add the following to the body:\n",
    "\n",
    "1. start with a sequence of items of type A\n",
    "2. map over the list to produce a sequence of items of type B\n",
    "3. use the Monoid to reduce the items to a single B"
   ]
  },
  {
   "cell_type": "code",
   "execution_count": 5,
   "metadata": {},
   "outputs": [
    {
     "data": {
      "text/plain": [
       "defined \u001b[32mfunction\u001b[39m \u001b[36mfoldMap\u001b[39m"
      ]
     },
     "execution_count": 5,
     "metadata": {},
     "output_type": "execute_result"
    }
   ],
   "source": [
    "def foldMap[A, B: Monoid](value: Vector[A])(func: A => B): B = \n",
    "    value.map(func).foldLeft(Monoid[B].empty)(_ |+| _)"
   ]
  },
  {
   "cell_type": "code",
   "execution_count": null,
   "metadata": {
    "jupyter": {
     "source_hidden": true
    }
   },
   "outputs": [],
   "source": [
    "def foldMap[A, B : Monoid](as: Vector[A])(func: A => B): B = as.map(func).foldLeft(Monoid[B].empty)(_ |+| _)"
   ]
  },
  {
   "cell_type": "markdown",
   "metadata": {},
   "source": [
    "Great, lets quickly try out our implementation. "
   ]
  },
  {
   "cell_type": "code",
   "execution_count": 6,
   "metadata": {},
   "outputs": [
    {
     "data": {
      "text/plain": [
       "\u001b[36mres5\u001b[39m: \u001b[32mInt\u001b[39m = \u001b[32m6\u001b[39m"
      ]
     },
     "execution_count": 6,
     "metadata": {},
     "output_type": "execute_result"
    }
   ],
   "source": [
    "foldMap(Vector(1, 2, 3))(identity)"
   ]
  },
  {
   "cell_type": "code",
   "execution_count": 7,
   "metadata": {},
   "outputs": [
    {
     "data": {
      "text/plain": [
       "\u001b[36mres6\u001b[39m: \u001b[32mString\u001b[39m = \u001b[32m\"1! 2! 3! \"\u001b[39m"
      ]
     },
     "execution_count": 7,
     "metadata": {},
     "output_type": "execute_result"
    }
   ],
   "source": [
    "foldMap(Vector(1, 2, 3))(_.toString + \"! \")"
   ]
  },
  {
   "cell_type": "code",
   "execution_count": 8,
   "metadata": {},
   "outputs": [
    {
     "data": {
      "text/plain": [
       "\u001b[36mres7\u001b[39m: \u001b[32mString\u001b[39m = \u001b[32m\"HELLO WORLD!\"\u001b[39m"
      ]
     },
     "execution_count": 8,
     "metadata": {},
     "output_type": "execute_result"
    }
   ],
   "source": [
    "foldMap(\"Hello world!\".toVector)(_.toString.toUpperCase)"
   ]
  },
  {
   "cell_type": "markdown",
   "metadata": {},
   "source": [
    "## Distributing the operation\n",
    "\n",
    "Our simple map reduce implementation above is great, but not necessarily the most efficient for a given machine.  Instead, we should attempt to utilize all of the processing power that we have available on the box which can only be accomplished if we start to divide up the data and distribute the operation to multiple cores/thread.  \n",
    "\n",
    "![Distribute MapReduce](images/parallelising-foldmap.png)\n",
    "\n",
    "We can accomplish the distributed work by using Scala's `Future` which work using thread pools.  To start dividing our work we want to try to utilize the number of available processors (instead of hard coding the value).  So lets first check and see how many available processors we have.  "
   ]
  },
  {
   "cell_type": "code",
   "execution_count": 9,
   "metadata": {},
   "outputs": [
    {
     "data": {
      "text/plain": [
       "\u001b[36mprocessorCount\u001b[39m: \u001b[32mInt\u001b[39m = \u001b[32m12\u001b[39m"
      ]
     },
     "execution_count": 9,
     "metadata": {},
     "output_type": "execute_result"
    }
   ],
   "source": [
    "val processorCount = Runtime.getRuntime.availableProcessors"
   ]
  },
  {
   "cell_type": "markdown",
   "metadata": {},
   "source": [
    "Great, now that we have our processor count we can group our initial data request into buckets of the same count. "
   ]
  },
  {
   "cell_type": "code",
   "execution_count": 11,
   "metadata": {},
   "outputs": [
    {
     "data": {
      "text/plain": [
       "\u001b[36mres10\u001b[39m: \u001b[32mList\u001b[39m[\u001b[32mList\u001b[39m[\u001b[32mInt\u001b[39m]] = \u001b[33mList\u001b[39m(\n",
       "  \u001b[33mList\u001b[39m(\u001b[32m1\u001b[39m, \u001b[32m2\u001b[39m, \u001b[32m3\u001b[39m, \u001b[32m4\u001b[39m, \u001b[32m5\u001b[39m, \u001b[32m6\u001b[39m, \u001b[32m7\u001b[39m, \u001b[32m8\u001b[39m, \u001b[32m9\u001b[39m, \u001b[32m10\u001b[39m, \u001b[32m11\u001b[39m, \u001b[32m12\u001b[39m),\n",
       "  \u001b[33mList\u001b[39m(\u001b[32m13\u001b[39m, \u001b[32m14\u001b[39m, \u001b[32m15\u001b[39m, \u001b[32m16\u001b[39m, \u001b[32m17\u001b[39m, \u001b[32m18\u001b[39m, \u001b[32m19\u001b[39m, \u001b[32m20\u001b[39m, \u001b[32m21\u001b[39m, \u001b[32m22\u001b[39m, \u001b[32m23\u001b[39m, \u001b[32m24\u001b[39m),\n",
       "  \u001b[33mList\u001b[39m(\u001b[32m25\u001b[39m, \u001b[32m26\u001b[39m, \u001b[32m27\u001b[39m, \u001b[32m28\u001b[39m, \u001b[32m29\u001b[39m, \u001b[32m30\u001b[39m, \u001b[32m31\u001b[39m, \u001b[32m32\u001b[39m, \u001b[32m33\u001b[39m, \u001b[32m34\u001b[39m, \u001b[32m35\u001b[39m, \u001b[32m36\u001b[39m),\n",
       "  \u001b[33mList\u001b[39m(\u001b[32m37\u001b[39m, \u001b[32m38\u001b[39m, \u001b[32m39\u001b[39m, \u001b[32m40\u001b[39m, \u001b[32m41\u001b[39m, \u001b[32m42\u001b[39m, \u001b[32m43\u001b[39m, \u001b[32m44\u001b[39m, \u001b[32m45\u001b[39m, \u001b[32m46\u001b[39m, \u001b[32m47\u001b[39m, \u001b[32m48\u001b[39m),\n",
       "  \u001b[33mList\u001b[39m(\u001b[32m49\u001b[39m, \u001b[32m50\u001b[39m, \u001b[32m51\u001b[39m, \u001b[32m52\u001b[39m, \u001b[32m53\u001b[39m, \u001b[32m54\u001b[39m, \u001b[32m55\u001b[39m, \u001b[32m56\u001b[39m, \u001b[32m57\u001b[39m, \u001b[32m58\u001b[39m, \u001b[32m59\u001b[39m, \u001b[32m60\u001b[39m),\n",
       "  \u001b[33mList\u001b[39m(\u001b[32m61\u001b[39m, \u001b[32m62\u001b[39m, \u001b[32m63\u001b[39m, \u001b[32m64\u001b[39m, \u001b[32m65\u001b[39m, \u001b[32m66\u001b[39m, \u001b[32m67\u001b[39m, \u001b[32m68\u001b[39m, \u001b[32m69\u001b[39m, \u001b[32m70\u001b[39m, \u001b[32m71\u001b[39m, \u001b[32m72\u001b[39m),\n",
       "  \u001b[33mList\u001b[39m(\u001b[32m73\u001b[39m, \u001b[32m74\u001b[39m, \u001b[32m75\u001b[39m, \u001b[32m76\u001b[39m, \u001b[32m77\u001b[39m, \u001b[32m78\u001b[39m, \u001b[32m79\u001b[39m, \u001b[32m80\u001b[39m, \u001b[32m81\u001b[39m, \u001b[32m82\u001b[39m, \u001b[32m83\u001b[39m, \u001b[32m84\u001b[39m),\n",
       "  \u001b[33mList\u001b[39m(\u001b[32m85\u001b[39m, \u001b[32m86\u001b[39m, \u001b[32m87\u001b[39m, \u001b[32m88\u001b[39m, \u001b[32m89\u001b[39m, \u001b[32m90\u001b[39m, \u001b[32m91\u001b[39m, \u001b[32m92\u001b[39m, \u001b[32m93\u001b[39m, \u001b[32m94\u001b[39m, \u001b[32m95\u001b[39m, \u001b[32m96\u001b[39m),\n",
       "  \u001b[33mList\u001b[39m(\u001b[32m97\u001b[39m, \u001b[32m98\u001b[39m, \u001b[32m99\u001b[39m, \u001b[32m100\u001b[39m, \u001b[32m101\u001b[39m, \u001b[32m102\u001b[39m, \u001b[32m103\u001b[39m, \u001b[32m104\u001b[39m, \u001b[32m105\u001b[39m, \u001b[32m106\u001b[39m, \u001b[32m107\u001b[39m, \u001b[32m108\u001b[39m),\n",
       "  \u001b[33mList\u001b[39m(\u001b[32m109\u001b[39m, \u001b[32m110\u001b[39m, \u001b[32m111\u001b[39m, \u001b[32m112\u001b[39m, \u001b[32m113\u001b[39m, \u001b[32m114\u001b[39m, \u001b[32m115\u001b[39m, \u001b[32m116\u001b[39m, \u001b[32m117\u001b[39m, \u001b[32m118\u001b[39m, \u001b[32m119\u001b[39m, \u001b[32m120\u001b[39m),\n",
       "  \u001b[33mList\u001b[39m(\u001b[32m121\u001b[39m, \u001b[32m122\u001b[39m, \u001b[32m123\u001b[39m, \u001b[32m124\u001b[39m, \u001b[32m125\u001b[39m, \u001b[32m126\u001b[39m, \u001b[32m127\u001b[39m, \u001b[32m128\u001b[39m, \u001b[32m129\u001b[39m, \u001b[32m130\u001b[39m, \u001b[32m131\u001b[39m, \u001b[32m132\u001b[39m),\n",
       "  \u001b[33mList\u001b[39m(\u001b[32m133\u001b[39m, \u001b[32m134\u001b[39m, \u001b[32m135\u001b[39m, \u001b[32m136\u001b[39m, \u001b[32m137\u001b[39m, \u001b[32m138\u001b[39m, \u001b[32m139\u001b[39m, \u001b[32m140\u001b[39m, \u001b[32m141\u001b[39m, \u001b[32m142\u001b[39m, \u001b[32m143\u001b[39m, \u001b[32m144\u001b[39m),\n",
       "  \u001b[33mList\u001b[39m(\u001b[32m145\u001b[39m, \u001b[32m146\u001b[39m, \u001b[32m147\u001b[39m, \u001b[32m148\u001b[39m, \u001b[32m149\u001b[39m, \u001b[32m150\u001b[39m)\n",
       ")"
      ]
     },
     "execution_count": 11,
     "metadata": {},
     "output_type": "execute_result"
    }
   ],
   "source": [
    "(1 to 150).toList.grouped(processorCount).toList"
   ]
  },
  {
   "cell_type": "markdown",
   "metadata": {},
   "source": [
    "## Parallel Foldmap\n",
    "\n",
    "Lets start on our implementation of parallelfoldmap by defining the signature.  "
   ]
  },
  {
   "cell_type": "code",
   "execution_count": null,
   "metadata": {},
   "outputs": [],
   "source": [
    "def parallelFoldMap[A, B : Monoid](values: Vector[A])(func: A => B): Future[B] = ???"
   ]
  },
  {
   "cell_type": "code",
   "execution_count": 14,
   "metadata": {},
   "outputs": [
    {
     "data": {
      "text/html": [
       "<div class=\"jp-RenderedText\">\n",
       "<pre><code>defined <span style=\"color: rgb(0, 187, 0)\"><span class=\"ansi-green-fg\">function</span></span> <span style=\"color: rgb(0, 187, 187)\"><span class=\"ansi-cyan-fg\">parallelFoldMap</span></span>\n",
       "<span style=\"color: rgb(0, 187, 187)\"><span class=\"ansi-cyan-fg\">result</span></span>: <span style=\"color: rgb(0, 187, 0)\"><span class=\"ansi-green-fg\">Future</span></span>[<span style=\"color: rgb(0, 187, 0)\"><span class=\"ansi-green-fg\">Int</span></span>] = <span style=\"color: rgb(0, 187, 0)\"><span class=\"ansi-green-fg\"><span style=\"color: yellow\"><span class=\"ansi-yellow-fg\">Success</span></span>(<span style=\"color: rgb(0, 187, 0)\"><span class=\"ansi-green-fg\">1784293664</span></span>)</span></span>\n",
       "<span style=\"color: rgb(0, 187, 187)\"><span class=\"ansi-cyan-fg\">res13_2</span></span>: <span style=\"color: rgb(0, 187, 0)\"><span class=\"ansi-green-fg\">Int</span></span> = <span style=\"color: rgb(0, 187, 0)\"><span class=\"ansi-green-fg\">1784293664</span></span></code></pre>\n",
       "</div>"
      ],
      "text/plain": [
       "defined \u001b[32mfunction\u001b[39m \u001b[36mparallelFoldMap\u001b[39m\n",
       "\u001b[36mresult\u001b[39m: \u001b[32mFuture\u001b[39m[\u001b[32mInt\u001b[39m] = \u001b[32m\u001b[33mSuccess\u001b[39m(\u001b[32m1784293664\u001b[39m)\u001b[39m\n",
       "\u001b[36mres13_2\u001b[39m: \u001b[32mInt\u001b[39m = \u001b[32m1784293664\u001b[39m"
      ]
     },
     "metadata": {},
     "output_type": "display_data"
    }
   ],
   "source": [
    "def parallelFoldMap[A, B: Monoid](values: Vector[A])(func: A => B): Future[B] = {\n",
    "    val numCores = Runtime.getRuntime.availableProcessors\n",
    "    val groupSize = (1.0 * values.size / numCores).ceil.toInt\n",
    "    val groups: Iterator[Vector[A]] = values.grouped(groupSize)\n",
    "\n",
    "    val futures: Iterator[Future[B]] = groups map { \n",
    "        group =>\n",
    "            Future {\n",
    "                group.foldLeft(Monoid[B].empty)(_ |+| func(_))\n",
    "            }\n",
    "        }\n",
    "\n",
    "    Future.sequence(futures) map { iterable => iterable.foldLeft(Monoid[B].empty)(_ |+| _)\n",
    "    }\n",
    "}\n",
    "\n",
    "val result: Future[Int] = parallelFoldMap((1 to 1000000).toVector)(identity)\n",
    "Await.result(result, 1.second)"
   ]
  },
  {
   "cell_type": "markdown",
   "metadata": {},
   "source": [
    "The book also provides an implementation that uses as much Cats as possible, to demonstrate how consice the solution can be.  "
   ]
  },
  {
   "cell_type": "code",
   "execution_count": null,
   "metadata": {},
   "outputs": [],
   "source": [
    "def parallelFoldMap[A, B: Monoid](values: Vector[A])(func: A => B): Future[B] = {\n",
    "    val numCores = Runtime.getRuntime.availableProcessors\n",
    "    val groupSize = (1.0 * values.size / numCores).ceil.toInt\n",
    "\n",
    "    values.grouped(groupSize).toVector.traverse(group => Future(group.toVector.foldMap(func))).map(_.combineAll)\n",
    "}\n",
    "\n",
    "val future: Future[Int] = parallelFoldMap((1 to 1000).toVector)(_ * 1000)\n",
    "Await.result(future, 1.second)"
   ]
  },
  {
   "cell_type": "code",
   "execution_count": null,
   "metadata": {},
   "outputs": [],
   "source": []
  }
 ],
 "metadata": {
  "kernelspec": {
   "display_name": "Scala 2.12",
   "language": "scala",
   "name": "scala212"
  },
  "language_info": {
   "codemirror_mode": "text/x-scala",
   "file_extension": ".scala",
   "mimetype": "text/x-scala",
   "name": "scala",
   "nbconvert_exporter": "script",
   "version": "2.12.10"
  }
 },
 "nbformat": 4,
 "nbformat_minor": 4
}
